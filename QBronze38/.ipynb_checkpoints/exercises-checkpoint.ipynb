{
 "cells": [
  {
   "cell_type": "markdown",
   "metadata": {},
   "source": [
    "<h1>This Notebook is coded for QBronze working exercises</h1>"
   ]
  },
  {
   "cell_type": "markdown",
   "metadata": {},
   "source": [
    "<table width=\"100%\"><tr><td style=\"color:#bbbbbb;background-color:#ffffff;font-size:11px;font-style:italic;text-align:right;\">This cell contains some macros. If there is a problem with displaying mathematical formulas, please run this cell to load these macros. </td></tr></table>\n",
    "$ \\newcommand{\\bra}[1]{\\langle #1|} $\n",
    "$ \\newcommand{\\ket}[1]{|#1\\rangle} $\n",
    "$ \\newcommand{\\braket}[2]{\\langle #1|#2\\rangle} $\n",
    "$ \\newcommand{\\dot}[2]{ #1 \\cdot #2} $\n",
    "$ \\newcommand{\\biginner}[2]{\\left\\langle #1,#2\\right\\rangle} $\n",
    "$ \\newcommand{\\mymatrix}[2]{\\left( \\begin{array}{#1} #2\\end{array} \\right)} $\n",
    "$ \\newcommand{\\myvector}[1]{\\mymatrix{c}{#1}} $\n",
    "$ \\newcommand{\\myrvector}[1]{\\mymatrix{r}{#1}} $\n",
    "$ \\newcommand{\\mypar}[1]{\\left( #1 \\right)} $\n",
    "$ \\newcommand{\\mybigpar}[1]{ \\Big( #1 \\Big)} $\n",
    "$ \\newcommand{\\sqrttwo}{\\frac{1}{\\sqrt{2}}} $\n",
    "$ \\newcommand{\\dsqrttwo}{\\dfrac{1}{\\sqrt{2}}} $\n",
    "$ \\newcommand{\\onehalf}{\\frac{1}{2}} $\n",
    "$ \\newcommand{\\donehalf}{\\dfrac{1}{2}} $\n",
    "$ \\newcommand{\\hadamard}{ \\mymatrix{rr}{ \\sqrttwo & \\sqrttwo \\\\ \\sqrttwo & -\\sqrttwo }} $\n",
    "$ \\newcommand{\\vzero}{\\myvector{1\\\\0}} $\n",
    "$ \\newcommand{\\vone}{\\myvector{0\\\\1}} $\n",
    "$ \\newcommand{\\stateplus}{\\myvector{ \\sqrttwo \\\\  \\sqrttwo } } $\n",
    "$ \\newcommand{\\stateminus}{ \\myrvector{ \\sqrttwo \\\\ -\\sqrttwo } } $\n",
    "$ \\newcommand{\\myarray}[2]{ \\begin{array}{#1}#2\\end{array}} $\n",
    "$ \\newcommand{\\X}{ \\mymatrix{cc}{0 & 1 \\\\ 1 & 0}  } $\n",
    "$ \\newcommand{\\I}{ \\mymatrix{rr}{1 & 0 \\\\ 0 & 1}  } $\n",
    "$ \\newcommand{\\Z}{ \\mymatrix{rr}{1 & 0 \\\\ 0 & -1}  } $\n",
    "$ \\newcommand{\\Htwo}{ \\mymatrix{rrrr}{ \\frac{1}{2} & \\frac{1}{2} & \\frac{1}{2} & \\frac{1}{2} \\\\ \\frac{1}{2} & -\\frac{1}{2} & \\frac{1}{2} & -\\frac{1}{2} \\\\ \\frac{1}{2} & \\frac{1}{2} & -\\frac{1}{2} & -\\frac{1}{2} \\\\ \\frac{1}{2} & -\\frac{1}{2} & -\\frac{1}{2} & \\frac{1}{2} } } $\n",
    "$ \\newcommand{\\CNOT}{ \\mymatrix{cccc}{1 & 0 & 0 & 0 \\\\ 0 & 1 & 0 & 0 \\\\ 0 & 0 & 0 & 1 \\\\ 0 & 0 & 1 & 0} } $\n",
    "$ \\newcommand{\\norm}[1]{ \\left\\lVert #1 \\right\\rVert } $\n",
    "$ \\newcommand{\\pstate}[1]{ \\lceil \\mspace{-1mu} #1 \\mspace{-1.5mu} \\rfloor } $"
   ]
  },
  {
   "cell_type": "markdown",
   "metadata": {},
   "source": [
    "Where found headings donot have solutions it can be said they don't have any task todo."
   ]
  },
  {
   "cell_type": "markdown",
   "metadata": {},
   "source": [
    "# Exercise = B00_Credits"
   ]
  },
  {
   "cell_type": "markdown",
   "metadata": {},
   "source": [
    "# Exercise = B01_Qiskit_Reference"
   ]
  },
  {
   "cell_type": "markdown",
   "metadata": {},
   "source": [
    "# Exercise = B03_One_Bit"
   ]
  },
  {
   "cell_type": "markdown",
   "metadata": {},
   "source": [
    "<h3>Task 1</h3>\n",
    "\n",
    "Convince yourself with the correctness of each table.\n"
   ]
  },
  {
   "cell_type": "code",
   "execution_count": 70,
   "metadata": {},
   "outputs": [],
   "source": [
    "#Solution: \n",
    "\n",
    "#I am convinced"
   ]
  },
  {
   "cell_type": "markdown",
   "metadata": {},
   "source": [
    "# Exercise = B06_Coin_Flip"
   ]
  },
  {
   "cell_type": "markdown",
   "metadata": {},
   "source": [
    " <h3>Task 1: Simulating FairCoin in Python</h3>\n",
    "\n",
    "Flip a fair coin 100 times. Calculate the total number of heads and tails, and then check the ratio of the number of heads and the number of tails.\n",
    "\n",
    "Do the same experiment 1000 times.\n",
    "\n",
    "Do the same experiment 10,000 times.\n",
    "\n",
    "Do the same experiment 100,000 times.\n",
    "\n",
    "Do your results get close to the ideal case (the numbers of heads and tails are equal)?\n"
   ]
  },
  {
   "cell_type": "code",
   "execution_count": 71,
   "metadata": {},
   "outputs": [
    {
     "name": "stdout",
     "output_type": "stream",
     "text": [
      "experiment with:  100 ,   heads:  46 , tails:  54 , ratio:  0.8518518518518519\n",
      "experiment with:  1000 ,   heads:  478 , tails:  522 , ratio:  0.9157088122605364\n",
      "experiment with:  10000 ,   heads:  5054 , tails:  4946 , ratio:  1.0218358269308532\n",
      "experiment with:  100000 ,   heads:  50054 , tails:  49946 , ratio:  1.0021623353221478\n"
     ]
    }
   ],
   "source": [
    "#Solution: \n",
    "\n",
    "from random import randrange\n",
    "def experiment(e):                   #starting with function defining \n",
    "    heads = 0\n",
    "    tails = 0\n",
    "    for i in range(e):               #looping with conditions  \n",
    "        if randrange(2) == 1:\n",
    "            heads += 1\n",
    "        else:\n",
    "            tails += 1\n",
    "    return {\"heads\": heads, \"tails\": tails, \"ratio\": heads/tails}\n",
    "\n",
    "a = [100, 1000, 10000, 100000]\n",
    "experiments = [experiment(n) for n in a]\n",
    "i = 0\n",
    "for b in experiments:\n",
    "    print(\"experiment with: \", a[i], \",   heads: \", b[\"heads\"], \", tails: \", b[\"tails\"], \", ratio: \", b[\"ratio\"])\n",
    "    i += 1\n"
   ]
  },
  {
   "cell_type": "markdown",
   "metadata": {},
   "source": [
    "<h3> Task 2: Simulating BiasedCoin in Python</h3>\n",
    "\n",
    "Flip the following biased coin 100 times. Calculate the total numbers of heads and tails, and then check the ratio of the number of heads and the number of tails.\n",
    "\n",
    "$\n",
    "BiasedCoin = \\begin{array}{c|cc} & \\mathbf{Head} & \\mathbf{Tail} \\\\ \\hline \\mathbf{Head} & 0.6 & 0.6 \\\\  \\mathbf{Tail} & 0.4 & 0.4  \\end{array}\n",
    "$\n",
    "\n",
    "\n",
    "Do the same experiment 1000 times.\n",
    "\n",
    "Do the same experiment 10,000 times.\n",
    "\n",
    "Do the same experiment 100,000 times.\n",
    "\n",
    "Do your results get close to the ideal case $ \\mypar{ \\dfrac{ \\mbox{# of heads} }{ \\mbox{# of tails} } = \\dfrac{0.6}{0.4} = 1.50000000 } $?"
   ]
  },
  {
   "cell_type": "code",
   "execution_count": 72,
   "metadata": {},
   "outputs": [
    {
     "name": "stdout",
     "output_type": "stream",
     "text": [
      "experiment with:  100 ,   heads:  30.00000000000003 , tails:  19.999999999999993 , ratio:  1.500000000000002\n",
      "experiment with:  1000 ,   heads:  286.1999999999994 , tails:  209.2000000000019 , ratio:  1.3680688336519924\n",
      "experiment with:  10000 ,   heads:  2992.799999999729 , tails:  2004.8000000001819 , ratio:  1.492817238627024\n",
      "experiment with:  100000 ,   heads:  30089.99999997377 , tails:  19940.000000002416 , ratio:  1.5090270812422328\n"
     ]
    }
   ],
   "source": [
    "#Solution: \n",
    "\n",
    "from random import randrange\n",
    "def experiment(e):                   #starting with function defining \n",
    "    heads = 0\n",
    "    tails = 0\n",
    "    for i in range(e):               #looping with conditions  \n",
    "        if randrange(2) == 1:\n",
    "            heads += 0.60            #just making some changes here\n",
    "        else:\n",
    "            tails += 0.40            #& here\n",
    "    return {\"heads\": heads, \"tails\": tails, \"ratio\": heads/tails}\n",
    "\n",
    "a = [100, 1000, 10000, 100000]\n",
    "experiments = [experiment(n) for n in a]\n",
    "i = 0\n",
    "for b in experiments:\n",
    "    print(\"experiment with: \", a[i], \",   heads: \", b[\"heads\"], \", tails: \", b[\"tails\"], \", ratio: \", b[\"ratio\"])\n",
    "    i += 1"
   ]
  },
  {
   "cell_type": "markdown",
   "metadata": {},
   "source": [
    "<h3> Task 3 </h3>\n",
    "\n",
    "Write a function to implement the described biased coin,\n",
    "\n",
    "The inputs are integers $ N >0 $ and $ 0 \\leq B < N $.\n",
    "\n",
    "The output is either \"Head\" or \"Tail\"."
   ]
  },
  {
   "cell_type": "code",
   "execution_count": 73,
   "metadata": {},
   "outputs": [],
   "source": [
    "#Solution: \n",
    "\n",
    "def biased_coin(N,B):\n",
    "    from random import randrange\n",
    "    if randrange(N) < B:\n",
    "        return \"Head\"\n",
    "    else:\n",
    "        return \"Tail\""
   ]
  },
  {
   "cell_type": "markdown",
   "metadata": {},
   "source": [
    "<h3> Task 4</h3>\n",
    "\n",
    "We use the biased coin defined in Task 3. \n",
    "\n",
    "(You may use the one given in the solution.)\n",
    "\n",
    "We pick $ N $ as 101.\n",
    "\n",
    "We determine $ B $ randomly, and we do not check its value immediately.\n",
    "\n",
    "The task is to guess the bias by using the biased coin at most 500 times.\n",
    "\n",
    "Check the real bias, and calculate the error."
   ]
  },
  {
   "cell_type": "code",
   "execution_count": 74,
   "metadata": {},
   "outputs": [
    {
     "name": "stdout",
     "output_type": "stream",
     "text": [
      "Real bias:         96\n",
      "My Guessed bias:   93.4\n",
      "error:             2.7083333333333277\n"
     ]
    }
   ],
   "source": [
    "#Solution:\n",
    "\n",
    "from random import randrange\n",
    "N = 101\n",
    "B = randrange(100)\n",
    "heads = 0\n",
    "for i in range(500):\n",
    "    if biased_coin(N, B) == \"Head\":\n",
    "        heads += 1\n",
    "guess = (heads/500)*(N-1)\n",
    "print(\"Real bias:        \", B, )\n",
    "print(\"My Guessed bias:  \", guess,) \n",
    "print(\"error:            \", (abs(B-guess)/B)*100)"
   ]
  },
  {
   "cell_type": "markdown",
   "metadata": {},
   "source": [
    "# Exercise = B09_Coin_Flip_Game"
   ]
  },
  {
   "cell_type": "markdown",
   "metadata": {},
   "source": [
    "<h3>Task 1: Convince yourself </h3>\n",
    "\n",
    "Please convince yourself about the correctness of transitions given in the table.\n",
    "\n",
    "<i> Remark that there is no difference between getting head from one euro or getting head from one cent.\n",
    "    \n",
    "Therefore, one bit is enough to represent all transitions.\n",
    "</i>"
   ]
  },
  {
   "cell_type": "code",
   "execution_count": 75,
   "metadata": {},
   "outputs": [],
   "source": [
    "#Solution:\n",
    "\n",
    "#I am Convinced"
   ]
  },
  {
   "cell_type": "markdown",
   "metadata": {},
   "source": [
    "<h3> Task 2: Tracing ten biased coin tosses </h3>\n",
    "\n",
    "By using python, calculate the probabilities of Asja getting head and tail after 10 coin tosses.\n",
    "\n",
    "$\n",
    "GameCoins = \\begin{array}{c|cc} & \\mathbf{Head} & \\mathbf{Tail} \\\\ \\hline \\mathbf{Head} & 0.6 & 0.3\\\\  \\mathbf{Tail} & 0.4 & 0.7  \\end{array} = \\begin{array}{c|cc} & \\mathbf{0} & \\mathbf{1} \\\\ \\hline \\mathbf{0} & 0.6 & 0.3 \\\\  \\mathbf{1} & 0.4 & 0.7  \\end{array}\n",
    "$\n",
    "\n",
    "Please use a loop in your solution."
   ]
  },
  {
   "cell_type": "code",
   "execution_count": 76,
   "metadata": {},
   "outputs": [
    {
     "name": "stdout",
     "output_type": "stream",
     "text": [
      "probability of head after 10 tosses is 0.428575\n",
      "probability of tail after 10 tosses is 0.571425\n"
     ]
    }
   ],
   "source": [
    "#Solution:\n",
    "\n",
    "previous_prob_head = 1\n",
    "previous_prob_tail = 0\n",
    "\n",
    "prob_head = 0\n",
    "prob_tail = 0\n",
    "for i in range(10):\n",
    "    prob_head = previous_prob_head * 0.6 + previous_prob_tail * 0.3\n",
    "    prob_tail = previous_prob_head * 0.4 + previous_prob_tail * 0.7\n",
    "    previous_prob_head = prob_head\n",
    "    previous_prob_tail = prob_tail\n",
    "print(\"probability of head after 10 tosses is\", round(prob_head,6))\n",
    "print(\"probability of tail after 10 tosses is\", round(prob_tail,6))"
   ]
  },
  {
   "cell_type": "markdown",
   "metadata": {},
   "source": [
    "<h3> Task 3</h3>\n",
    "\n",
    "Repeat Task 2 for 20, 30, and 50 coin tosses."
   ]
  },
  {
   "cell_type": "code",
   "execution_count": 77,
   "metadata": {},
   "outputs": [
    {
     "name": "stdout",
     "output_type": "stream",
     "text": [
      "Probability of head after 20 coin tosses is 0.42857142857740554\n",
      "Probability of tail after 20 coin tosses is 0.5714285714225936\n",
      "Probability of head after 30 coin tosses is 0.42857142857142805\n",
      "Probability of tail after 30 coin tosses is 0.5714285714285706\n",
      "Probability of head after 50 coin tosses is 0.42857142857142805\n",
      "Probability of tail after 50 coin tosses is 0.5714285714285706\n"
     ]
    }
   ],
   "source": [
    "#Solution:\n",
    "    \n",
    "x = [21,31,51]\n",
    "for y in x: \n",
    "    pr_head = 1\n",
    "    pr_tail = 0\n",
    "    for i in range(y):\n",
    "        p_head = pr_head * 0.6 + pr_tail * 0.3\n",
    "        p_tail = pr_head * 0.4 + pr_tail * 0.7\n",
    "\n",
    "        \n",
    "        pr_head = p_head\n",
    "        pr_tail = p_tail\n",
    "\n",
    "    print(\"Probability of head after {} coin tosses is {}\".format(i,pr_head))\n",
    "    print(\"Probability of tail after {} coin tosses is {}\".format(i,pr_tail))"
   ]
  },
  {
   "cell_type": "markdown",
   "metadata": {},
   "source": [
    "<h3> Task 4</h3>\n",
    "\n",
    "Repeat Task 2 for 10, 20, and 50 coin tosses by picking different initial conditions, e.g., \n",
    "    \n",
    "    prob_head = prob_tail = 1/2\n",
    "or\n",
    "    \n",
    "    prob_head = 0 \n",
    "    prob_tail = 1"
   ]
  },
  {
   "cell_type": "code",
   "execution_count": 78,
   "metadata": {},
   "outputs": [
    {
     "name": "stdout",
     "output_type": "stream",
     "text": [
      "Probability of head after 10 coin tosses is 0.4285715551049998\n",
      "Probability of tail after 10 coin tosses is 0.5714284448949998\n",
      "Probability of head after 20 coin tosses is 0.42857142857217545\n",
      "Probability of tail after 20 coin tosses is 0.5714285714278239\n",
      "Probability of head after 50 coin tosses is 0.42857142857142827\n",
      "Probability of tail after 50 coin tosses is 0.571428571428571\n"
     ]
    }
   ],
   "source": [
    "#Solution:\n",
    "    \n",
    "x = [11,21,51]\n",
    "for y in x: \n",
    "    pr_head = pr_tail = 1/2\n",
    "    for i in range(y):\n",
    "        p_head = pr_head * 0.6 + pr_tail * 0.3\n",
    "        p_tail = pr_head * 0.4 + pr_tail * 0.7\n",
    "\n",
    "        \n",
    "        pr_head = p_head\n",
    "        pr_tail = p_tail\n",
    "\n",
    "    print(\"Probability of head after {} coin tosses is {}\".format(i,pr_head))\n",
    "    print(\"Probability of tail after {} coin tosses is {}\".format(i,pr_tail))"
   ]
  },
  {
   "cell_type": "markdown",
   "metadata": {},
   "source": [
    "<h3> Task 5 </h3>\n",
    "\n",
    "Observe that if $ a=1 $ and $ b = 0 $, then it is Identity operator, which does not change the initial state.\n",
    "\n",
    "If $ a=0 $ and $ b=1 $, then it is NOT operator. NOT operator swaps the probabilities of head and tail. If the initial probabilities are not $ 0.5 $ and $ 0.5 $, then the system cannot converge."
   ]
  },
  {
   "cell_type": "code",
   "execution_count": 79,
   "metadata": {},
   "outputs": [],
   "source": [
    "def GameCoins(a, b, N):\n",
    "    p_pr_head = 1\n",
    "    p_pr_tail = 0\n",
    "\n",
    "    pr_head = 0\n",
    "    pr_tail = 0\n",
    "    for i in range(N):\n",
    "        pr_head = p_pr_head * a + p_pr_tail * b\n",
    "        pr_tail = p_pr_head * (1-a) + p_pr_tail * (1-b)\n",
    "\n",
    "        p_pr_head = pr_head\n",
    "        p_pr_tail = pr_tail\n",
    "    \n",
    "    return {\"prob_head\": pr_head, \"prob_tail\": pr_tail}"
   ]
  },
  {
   "cell_type": "markdown",
   "metadata": {},
   "source": [
    "<h3> Task 6</h3>\n",
    "\n",
    "Randomly pick the values of $ a $ and $ b $, and then implement Tasks 3 and 4 for $ GameCoins(a,b) $."
   ]
  },
  {
   "cell_type": "code",
   "execution_count": 80,
   "metadata": {},
   "outputs": [
    {
     "name": "stdout",
     "output_type": "stream",
     "text": [
      "a:  0.377912515923446 , b: 0.6834357017355912\n",
      "\n",
      "prob_head: 0.523496\n",
      "prob_head: 0.523496\n",
      "prob_head: 0.523496\n",
      "\n",
      "prob_head =  0.5 , prob_tail =  0.5 : prob_head:  0.523495\n",
      "prob_head =  0.5 , prob_tail =  0.5 : prob_head:  0.523496\n",
      "prob_head =  0.5 , prob_tail =  0.5 : prob_head:  0.523496\n",
      "\n",
      "prob_head =  0 , prob_tail =  1 : prob_head:  0.523492\n",
      "prob_head =  0 , prob_tail =  1 : prob_head:  0.523496\n",
      "prob_head =  0 , prob_tail =  1 : prob_head:  0.523496\n",
      "\n"
     ]
    }
   ],
   "source": [
    "#Solution:\n",
    "\n",
    "from random import uniform\n",
    "a = uniform(0, 1)\n",
    "b = uniform(0, 1)\n",
    "print(\"a: \", a, \", b:\", b)\n",
    "print()\n",
    "Ns = [20, 30, 50]\n",
    "task2s = [GameCoins(a, b, n) for n in Ns]\n",
    "i = 0\n",
    "for task in task2s:\n",
    "    print(\"prob_head:\",round(task[\"prob_head\"],6))\n",
    "    i+=1\n",
    "print()\n",
    "def GameCoins2(a, b, N, initial_conditions):\n",
    "    prev_prob_head, prev_prob_tail = initial_conditions\n",
    "    pr_head = 0\n",
    "    pr_tail = 0\n",
    "    for i in range(N):\n",
    "        pr_head = prev_prob_head * a + prev_prob_tail * b\n",
    "        pr_tail = prev_prob_head * (1-a) + prev_prob_tail * (1-b)\n",
    "        prev_prob_head = pr_head\n",
    "        prev_prob_tail = pr_tail\n",
    "    return {\"prob_head\": pr_head, \"prob_tail\": pr_tail}\n",
    "Ns = [10, 20, 50]\n",
    "init_conds = [(1/2, 1/2), (0, 1)]\n",
    "task2s = []\n",
    "for cond in init_conds:\n",
    "    for n in Ns:\n",
    "        pr_head, pr_tail = cond\n",
    "        task = GameCoins2(a, b, n, cond)\n",
    "        print(\"prob_head = \", pr_head, \", prob_tail = \", pr_tail, \": prob_head: \",round(task[\"prob_head\"],6))\n",
    "    print()"
   ]
  },
  {
   "cell_type": "markdown",
   "metadata": {},
   "source": [
    "<h3> Task 7</h3>\n",
    "\n",
    "10 times repeat Task 6 and observe whether the system converges in each time."
   ]
  },
  {
   "cell_type": "code",
   "execution_count": 81,
   "metadata": {},
   "outputs": [
    {
     "name": "stdout",
     "output_type": "stream",
     "text": [
      "Number of rounds  0  |  Initial P(Heads)  1  |  Initial P(Tails) 0  |  Probabilities  0.6 0.4  --  0.3 0.7\n",
      "Probability of heads is  1\n",
      "Probability of tails is  0\n",
      "\n",
      "Number of rounds  94  |  Initial P(Heads)  1  |  Initial P(Tails) 0  |  Probabilities  0.6 0.4  --  0.3 0.7\n",
      "Probability of heads is  0.42857142857142805\n",
      "Probability of tails is  0.5714285714285706\n",
      "\n",
      "Number of rounds  188  |  Initial P(Heads)  1  |  Initial P(Tails) 0  |  Probabilities  0.6 0.4  --  0.3 0.7\n",
      "Probability of heads is  0.42857142857142805\n",
      "Probability of tails is  0.5714285714285706\n",
      "\n",
      "Number of rounds  282  |  Initial P(Heads)  1  |  Initial P(Tails) 0  |  Probabilities  0.6 0.4  --  0.3 0.7\n",
      "Probability of heads is  0.42857142857142805\n",
      "Probability of tails is  0.5714285714285706\n",
      "\n",
      "Number of rounds  376  |  Initial P(Heads)  1  |  Initial P(Tails) 0  |  Probabilities  0.6 0.4  --  0.3 0.7\n",
      "Probability of heads is  0.42857142857142805\n",
      "Probability of tails is  0.5714285714285706\n",
      "\n",
      "Number of rounds  470  |  Initial P(Heads)  1  |  Initial P(Tails) 0  |  Probabilities  0.6 0.4  --  0.3 0.7\n",
      "Probability of heads is  0.42857142857142805\n",
      "Probability of tails is  0.5714285714285706\n",
      "\n",
      "Number of rounds  564  |  Initial P(Heads)  1  |  Initial P(Tails) 0  |  Probabilities  0.6 0.4  --  0.3 0.7\n",
      "Probability of heads is  0.42857142857142805\n",
      "Probability of tails is  0.5714285714285706\n",
      "\n",
      "Number of rounds  658  |  Initial P(Heads)  1  |  Initial P(Tails) 0  |  Probabilities  0.6 0.4  --  0.3 0.7\n",
      "Probability of heads is  0.42857142857142805\n",
      "Probability of tails is  0.5714285714285706\n",
      "\n",
      "Number of rounds  752  |  Initial P(Heads)  1  |  Initial P(Tails) 0  |  Probabilities  0.6 0.4  --  0.3 0.7\n",
      "Probability of heads is  0.42857142857142805\n",
      "Probability of tails is  0.5714285714285706\n",
      "\n",
      "Number of rounds  846  |  Initial P(Heads)  1  |  Initial P(Tails) 0  |  Probabilities  0.6 0.4  --  0.3 0.7\n",
      "Probability of heads is  0.42857142857142805\n",
      "Probability of tails is  0.5714285714285706\n",
      "\n"
     ]
    }
   ],
   "source": [
    "#Solution\n",
    "\n",
    "def bias_coin_toss_custom(rounds, ph, pt, euH, euT, ctH, ctT):\n",
    "    print(\"Number of rounds \", rounds, \" | \", \"Initial P(Heads) \", ph, \" | \", \"Initial P(Tails)\", pt,\n",
    "         \" | \", \"Probabilities \", euH, euT, \" -- \", ctH, ctT)\n",
    "    pr_heads = n_prob_heads = ph\n",
    "    pr_tails = n_prob_tails = pt\n",
    "    for i in range(rounds):\n",
    "        n_prob_heads = (pr_heads * euH) + (pr_tails * ctH)\n",
    "        n_prob_tails = (pr_heads * euT) + (pr_tails * ctT)\n",
    "        pr_heads = n_prob_heads;\n",
    "        pr_tails = n_prob_tails;\n",
    "    return pr_heads, pr_tails\n",
    "from random import randrange\n",
    "rv = randrange(10, 100)\n",
    "for itr in range(0, 10):\n",
    "    pr_heads, pr_tails = bias_coin_toss_custom(itr * rv, 1, 0, 0.6, 0.4, 0.3, 0.7)\n",
    "    print(\"Probability of heads is \", pr_heads)\n",
    "    print(\"Probability of tails is \", pr_tails),print(\"\")"
   ]
  },
  {
   "cell_type": "markdown",
   "metadata": {},
   "source": [
    "<h3>Task 8</h3>\n",
    "\n",
    "We can rewrite arbitrary GameCoins as \n",
    "\n",
    "$  \\begin{array}{c|cc} & \\mathbf{Head} & \\mathbf{Tail} \\\\ \\hline \\mathbf{Head} & 1-y & x\\\\  \\mathbf{Tail} & y & 1-x  \\end{array} = \\begin{array}{c|cc} & \\mathbf{0} & \\mathbf{1} \\\\ \\hline \\mathbf{0} & 1-y & x \\\\  \\mathbf{1} & y & 1-x  \\end{array}.\n",
    "$ \n",
    "\n",
    "We assume that it is neither Identity nor NOT operator. Then, independent of the initial state, the system always converges to \n",
    "\n",
    "$ Pr[\\mbox{\"head\"}] = \\dfrac{x}{x+y} $ and $ Pr[\\mbox{\"tail\"}]=\\dfrac{y}{x+y} $ \n",
    "\n",
    "as the probabilities of getting head and tail, respectively.\n",
    "\n",
    "Observe this fact by checking the results of Task 7."
   ]
  },
  {
   "cell_type": "code",
   "execution_count": 82,
   "metadata": {},
   "outputs": [
    {
     "name": "stdout",
     "output_type": "stream",
     "text": [
      "value of Pr(heads) is : 0.5151515151515151\n",
      "value of Pr(tails) is : 0.4848484848484849\n",
      "\n",
      "Probability of heads after  20  turns =  0.48484848506802436\n",
      "Probability of tails after  20  turns =  0.515151514931975\n",
      "Probability of heads after  30  turns =  0.4848484848484891\n",
      "Probability of tails after  30  turns =  0.5151515151515101\n",
      "Probability of heads after  50  turns =  0.4848484848484844\n",
      "Probability of tails after  50  turns =  0.5151515151515146\n",
      "value of Pr(heads) is : 0.6634615384615384\n",
      "value of Pr(tails) is : 0.3365384615384615\n",
      "\n",
      "Probability of heads after  20  turns =  0.3365384615384614\n",
      "Probability of tails after  20  turns =  0.6634615384615382\n",
      "Probability of heads after  30  turns =  0.3365384615384614\n",
      "Probability of tails after  30  turns =  0.6634615384615382\n",
      "Probability of heads after  50  turns =  0.3365384615384614\n",
      "Probability of tails after  50  turns =  0.6634615384615382\n",
      "value of Pr(heads) is : 0.5925925925925926\n",
      "value of Pr(tails) is : 0.4074074074074074\n",
      "\n",
      "Probability of heads after  20  turns =  0.40744915101781004\n",
      "Probability of tails after  20  turns =  0.5925508489821896\n",
      "Probability of heads after  30  turns =  0.40740775776126453\n",
      "Probability of tails after  30  turns =  0.5925922422387349\n",
      "Probability of heads after  50  turns =  0.4074074074320867\n",
      "Probability of tails after  50  turns =  0.5925925925679122\n",
      "value of Pr(heads) is : 0.061855670103092834\n",
      "value of Pr(tails) is : 0.9381443298969072\n",
      "\n",
      "Probability of heads after  20  turns =  0.9381443298969073\n",
      "Probability of tails after  20  turns =  0.06185567010309284\n",
      "Probability of heads after  30  turns =  0.9381443298969073\n",
      "Probability of tails after  30  turns =  0.06185567010309284\n",
      "Probability of heads after  50  turns =  0.9381443298969073\n",
      "Probability of tails after  50  turns =  0.06185567010309284\n",
      "value of Pr(heads) is : 0.4835164835164836\n",
      "value of Pr(tails) is : 0.5164835164835165\n",
      "\n",
      "Probability of heads after  20  turns =  0.5256180911867887\n",
      "Probability of tails after  20  turns =  0.47438190881321135\n",
      "Probability of heads after  30  turns =  0.5177390457935725\n",
      "Probability of tails after  30  turns =  0.48226095420642756\n",
      "Probability of heads after  50  turns =  0.5165072358946758\n",
      "Probability of tails after  50  turns =  0.4834927641053242\n",
      "value of Pr(heads) is : 0.11688311688311684\n",
      "value of Pr(tails) is : 0.8831168831168832\n",
      "\n",
      "Probability of heads after  20  turns =  0.8831168831169031\n",
      "Probability of tails after  20  turns =  0.11688311688309677\n",
      "Probability of heads after  30  turns =  0.883116883116883\n",
      "Probability of tails after  30  turns =  0.11688311688311681\n",
      "Probability of heads after  50  turns =  0.883116883116883\n",
      "Probability of tails after  50  turns =  0.11688311688311681\n",
      "value of Pr(heads) is : 0.8348623853211009\n",
      "value of Pr(tails) is : 0.16513761467889906\n",
      "\n",
      "Probability of heads after  20  turns =  0.1651376146788992\n",
      "Probability of tails after  20  turns =  0.8348623853211016\n",
      "Probability of heads after  30  turns =  0.1651376146788992\n",
      "Probability of tails after  30  turns =  0.8348623853211016\n",
      "Probability of heads after  50  turns =  0.1651376146788992\n",
      "Probability of tails after  50  turns =  0.8348623853211016\n",
      "value of Pr(heads) is : 0.2975206611570248\n",
      "value of Pr(tails) is : 0.7024793388429752\n",
      "\n",
      "Probability of heads after  20  turns =  0.7024793388429834\n",
      "Probability of tails after  20  turns =  0.29752066115701653\n",
      "Probability of heads after  30  turns =  0.7024793388429751\n",
      "Probability of tails after  30  turns =  0.29752066115702475\n",
      "Probability of heads after  50  turns =  0.7024793388429751\n",
      "Probability of tails after  50  turns =  0.29752066115702475\n",
      "value of Pr(heads) is : 0.5694444444444445\n",
      "value of Pr(tails) is : 0.4305555555555556\n",
      "\n",
      "Probability of heads after  20  turns =  0.4305555555605511\n",
      "Probability of tails after  20  turns =  0.5694444444394481\n",
      "Probability of heads after  30  turns =  0.43055555555555514\n",
      "Probability of tails after  30  turns =  0.5694444444444439\n",
      "Probability of heads after  50  turns =  0.43055555555555514\n",
      "Probability of tails after  50  turns =  0.5694444444444439\n",
      "value of Pr(heads) is : 0.3188405797101449\n",
      "value of Pr(tails) is : 0.6811594202898551\n",
      "\n",
      "Probability of heads after  20  turns =  0.6811594215465955\n",
      "Probability of tails after  20  turns =  0.31884057845340474\n",
      "Probability of heads after  30  turns =  0.681159420289934\n",
      "Probability of tails after  30  turns =  0.3188405797100661\n",
      "Probability of heads after  50  turns =  0.6811594202898552\n",
      "Probability of tails after  50  turns =  0.318840579710145\n"
     ]
    }
   ],
   "source": [
    "for i in range(10):\n",
    "    a = randrange(100)/100\n",
    "    b = randrange(100)/100\n",
    "    c = 1 - a\n",
    "    d = b\n",
    "    pr_heads = c/(c+d)  #calculated values of pr\n",
    "    pr_tails = d/(c+d)\n",
    "    print (\"value of Pr(heads) is :\", pr_heads)\n",
    "    print (\"value of Pr(tails) is :\", pr_tails)\n",
    "    print()\n",
    "    for j in (20,30,50):\n",
    "        prob_heads = 1\n",
    "        prob_tails = 0\n",
    "        for i in range(j):\n",
    "            n_prob_heads = prob_heads*a + prob_tails*b\n",
    "            n_prob_tails = prob_heads*(1-a) + prob_tails*(1-b)\n",
    "            prob_heads = n_prob_heads\n",
    "            prob_tails =  n_prob_tails\n",
    "        print (\"Probability of heads after \",j,\" turns = \", prob_heads)\n",
    "        print (\"Probability of tails after \",j,\" turns = \", prob_tails)"
   ]
  },
  {
   "cell_type": "markdown",
   "metadata": {},
   "source": [
    "# B12_Probabilistic_States"
   ]
  },
  {
   "cell_type": "markdown",
   "metadata": {},
   "source": [
    "<h3> Task 1 </h3>\n",
    "\n",
    "Suppose that Balvis secretly flips a coin having bias $ \\dfrac{Pr(Head)}{Pr(Tail)} = \\dfrac{1}{4}$.\n",
    "\n",
    "\n",
    "Represent your information about the outcome as a column vector."
   ]
  },
  {
   "cell_type": "markdown",
   "metadata": {},
   "source": [
    "$ \\myvector{0.2 \\\\ 0.8} $"
   ]
  },
  {
   "cell_type": "markdown",
   "metadata": {},
   "source": [
    "<h3> Task 2 </h3>\n",
    "\n",
    "Suppose that Fyodor secretly rolls a loaded (tricky) dice with the bias \n",
    "\n",
    "$$ Pr(1):Pr(2):Pr(3):Pr(4):Pr(5):Pr(6) = 7:5:4:2:6:1 . $$\n",
    "\n",
    "Represent your information about the result as a column vector. Remark that the size of your column should be 6.\n",
    "\n",
    "You may use python for your calculations."
   ]
  },
  {
   "cell_type": "code",
   "execution_count": 92,
   "metadata": {},
   "outputs": [
    {
     "name": "stdout",
     "output_type": "stream",
     "text": [
      "[0.28, 0.2, 0.16, 0.08, 0.24, 0.04]\n"
     ]
    }
   ],
   "source": [
    "#Solution\n",
    "\n",
    "from functools import reduce\n",
    "p_dice = [7, 5, 4, 2, 6, 1]\n",
    "no_of_outcomes = len(p_dice)\n",
    "sum_prob = reduce(lambda x, y: x+y, p_dice)\n",
    "prob_unit = 1/sum_prob\n",
    "prob = []\n",
    "for outcome in p_dice:\n",
    "    prob.append(outcome*prob_unit)\n",
    "    \n",
    "print(prob)"
   ]
  },
  {
   "cell_type": "markdown",
   "metadata": {},
   "source": [
    "$ \\myvector{0.28\\\\0.2\\\\0.16\\\\0.08\\\\0.24\\\\0.04} $"
   ]
  },
  {
   "cell_type": "markdown",
   "metadata": {},
   "source": [
    "<h3> Task 3 </h3>\n",
    "\n",
    "For a system with 4 states, randomly create a probabilistic state, and print its entries, e.g., $ 0.16~~0.17~~0.02~~0.65 $.\n",
    "\n",
    "<i>Hint: You may pick your random numbers between 0 and 100 (or 1000), and then normalize each value by dividing the summation of all numbers.</i>"
   ]
  },
  {
   "cell_type": "code",
   "execution_count": 97,
   "metadata": {},
   "outputs": [
    {
     "name": "stdout",
     "output_type": "stream",
     "text": [
      "[ 0.1056338028169014 0.34507042253521125 0.30633802816901406 0.24295774647887325 ]\n",
      "1.0\n"
     ]
    }
   ],
   "source": [
    "#Solution:\n",
    "\n",
    "from random import randrange\n",
    "a = randrange(100)\n",
    "b = randrange(100)\n",
    "c = randrange(100)\n",
    "d = randrange(100)\n",
    "total = a+b+c+d\n",
    "pr_a = a/total\n",
    "pr_b = b/total\n",
    "pr_c = c/total\n",
    "pr_d = d/total\n",
    "print (\"[\",pr_a,pr_b,pr_c,pr_d,\"]\")\n",
    "total_prob = pr_a+pr_b+pr_c+pr_d\n",
    "print (total_prob)"
   ]
  },
  {
   "cell_type": "markdown",
   "metadata": {},
   "source": [
    "<h3> Task 4 [extra] </h3>\n",
    "\n",
    "In the hint given for Task 3, you may pick your random numbers between 0 and $ 10^k $. For better precision, you can take bigger values of $ k $.\n",
    "\n",
    "Write a function that randomly creates a probabilisitic state of size $ n $ with a precision up to $ k $ digits. \n",
    "\n",
    "Test your function."
   ]
  },
  {
   "cell_type": "code",
   "execution_count": 103,
   "metadata": {},
   "outputs": [
    {
     "name": "stdout",
     "output_type": "stream",
     "text": [
      "States = 7 , Precision = 1000 \n",
      "\n",
      "Before = [913, 737, 88, 381, 425, 194, 234] \n",
      "\n",
      "After = ['0.31', '0.25', '0.03', '0.13', '0.14', '0.07', '0.08'] \n",
      "\n",
      "Sum = 1\n"
     ]
    }
   ],
   "source": [
    "#Solution:\n",
    "\n",
    "from random import randrange\n",
    "from functools import reduce\n",
    "\n",
    "def prob_states(n, k):\n",
    "    coeffs = [];\n",
    "    for rv in range(n): coeffs.append(randrange(0, k))\n",
    "    sum = reduce(lambda x, y: x + y, coeffs)\n",
    "    sv = list(map(lambda x: format(x/sum, '.2f'), coeffs))\n",
    "    print(\"States =\", n, \", Precision =\", k, \"\\n\")\n",
    "    print(\"Before =\", coeffs, \"\\n\")\n",
    "    print(\"After =\", sv, \"\\n\")\n",
    "    print(\"Sum =\", round(reduce(lambda x, y: float(x)+float(y), sv)))\n",
    "prob_states(randrange(2, 10), 1000)"
   ]
  },
  {
   "cell_type": "markdown",
   "metadata": {},
   "source": [
    "# B15_Probabilistic_Operators"
   ]
  },
  {
   "cell_type": "markdown",
   "metadata": {},
   "source": [
    "<h3>Task 3</h3>\n",
    "\n",
    "Randomly construct a $ (3 \\times 3 ) $-dimensional probabilistic operator.\n",
    "\n",
    "That is, randomly determine the entries of the matrix that represents a probabilistic operator."
   ]
  },
  {
   "cell_type": "code",
   "execution_count": 8,
   "metadata": {},
   "outputs": [
    {
     "name": "stdout",
     "output_type": "stream",
     "text": [
      "matrix A before normalization:\n",
      "[23. 87. 34.]\n",
      "[84. 63. 59.]\n",
      "[41. 27. 82.]\n",
      "\n",
      "matrix A after normalisation:\n",
      "[0.15540541 0.49152542 0.19428571]\n",
      "[0.56756757 0.3559322  0.33714286]\n",
      "[0.27702703 0.15254237 0.46857143]\n",
      "\n",
      "the column summations must be 1\n",
      "[1. 1. 1.]\n"
     ]
    }
   ],
   "source": [
    "#Solution:\n",
    "\n",
    "\n",
    "import numpy as np\n",
    "from numpy import random\n",
    "A = np.zeros((3,3))\n",
    "norm = np.zeros(3)\n",
    "\n",
    "for j in range(3): \n",
    "    norm[j] = 0\n",
    "    while norm[j]==0: \n",
    "        for i in range(3):\n",
    "            A[i][j] = np.random.randint(101)\n",
    "            norm[j] += A[i][j]\n",
    "print(\"matrix A before normalization:\")\n",
    "for i in range(3):\n",
    "    print(A[i])\n",
    "for j in range(3):\n",
    "    for i in range(3):\n",
    "        A[i][j] /= norm[j] \n",
    "print() \n",
    "print(\"matrix A after normalisation:\")\n",
    "for i in range(3):\n",
    "    print(A[i]) \n",
    "print()\n",
    "print(\"the column summations must be 1\")\n",
    "total = np.zeros(3)\n",
    "for j in range(3):\n",
    "    for i in range(3):\n",
    "        total[j] += A[i][j]\n",
    "print(total)"
   ]
  },
  {
   "cell_type": "markdown",
   "metadata": {},
   "source": [
    "<h3> Task 4 </h3>\n",
    "\n",
    "What is the new probabilistic state if the operator $ B =  \\mymatrix{ccc}{ 0.4 & 0.6 & 0 \\\\ 0.2 & 0.1 & 0.7 \\\\ 0.4 & 0.3 & 0.3 } $ is applied to the state $ \\myvector{ 0.1 \\\\ 0.3 \\\\ 0.6 } $.\n",
    "\n",
    "Please find the result by using matrix-vector multiplication.\n",
    "\n",
    "Please do not use any python library for matrix-vector multiplication. \n",
    "\n",
    "<i> The new probabilistic state should be $ \\myvector{0.22 \\\\ 0.47 \\\\ 0.31} $. </i>"
   ]
  },
  {
   "cell_type": "code",
   "execution_count": 9,
   "metadata": {},
   "outputs": [
    {
     "name": "stdout",
     "output_type": "stream",
     "text": [
      "the new state is  [0.22]\n",
      "the new state is  [0.22, 0.47]\n",
      "the new state is  [0.22, 0.47, 0.31]\n"
     ]
    }
   ],
   "source": [
    "#Solutions:\n",
    "\n",
    "# operator B\n",
    "B = [\n",
    "    [0.4,0.6,0],\n",
    "    [0.2,0.1,0.7],\n",
    "    [0.4,0.3,0.3]\n",
    "]\n",
    "# the current state\n",
    "v = [0.1,0.3,0.6]\n",
    "nstate = []\n",
    "index = 0\n",
    "for row in B:\n",
    "    nstate.append(0)\n",
    "    for i in range(len(row)):\n",
    "        nstate[index] = nstate[index] + row[i] * v[i]\n",
    "    index = index + 1\n",
    "    print(\"the new state is \", nstate)"
   ]
  },
  {
   "cell_type": "markdown",
   "metadata": {},
   "source": [
    "<h3> Task 5 </h3>\n",
    "\n",
    "Write a function named <i>linear_evolve</i> that takes a probabilistic operator and a probabilistic state, and then returns the new probabilistic state.\n",
    "\n",
    "Please do not use any python library for matrix-vector multiplication.\n",
    "\n",
    "Your function should work for any dimension.\n",
    "\n",
    "Save your function so that you can use it later.\n",
    "<br><br>\n",
    "<div style=\"background-color:#f8f8f8;\">\n",
    "<b><u>Write the content of a code cell</u></b> into an external file:\n",
    "    \n",
    "    %%writefile linear_evolve.py\n",
    "This command should be placed in the first line of cell, and then the cell should be executed.\n",
    "</div>\n",
    "\n",
    "Test your function on $ B = \\mymatrix{ccc}{ 0.4 & 0.6 & 0 \\\\ 0.2 & 0.1 & 0.7 \\\\ 0.4 & 0.3 & 0.3 } $ and $ \\myvector{0.1 \\\\ 0.3 \\\\ 0.6} $. \n",
    "\n",
    "The new probabilistic state should be $ \\myvector{0.22 \\\\ 0.47 \\\\ 0.31} $.\n",
    "\n",
    "Then, evolve your system for 5, 10, 20, and 40 steps.\n",
    "\n",
    "This system should evolve to a fixed probabilistic state.\n",
    "\n",
    "Change your initial state to  $ \\myvector{1 \\\\ 0 \\\\ 0} $, and see whether the converged state is the same or not."
   ]
  },
  {
   "cell_type": "code",
   "execution_count": null,
   "metadata": {},
   "outputs": [],
   "source": []
  },
  {
   "cell_type": "code",
   "execution_count": null,
   "metadata": {},
   "outputs": [],
   "source": []
  },
  {
   "cell_type": "code",
   "execution_count": null,
   "metadata": {},
   "outputs": [],
   "source": []
  },
  {
   "cell_type": "code",
   "execution_count": null,
   "metadata": {},
   "outputs": [],
   "source": []
  },
  {
   "cell_type": "code",
   "execution_count": null,
   "metadata": {},
   "outputs": [],
   "source": []
  },
  {
   "cell_type": "code",
   "execution_count": null,
   "metadata": {},
   "outputs": [],
   "source": []
  },
  {
   "cell_type": "code",
   "execution_count": null,
   "metadata": {},
   "outputs": [],
   "source": []
  },
  {
   "cell_type": "code",
   "execution_count": null,
   "metadata": {},
   "outputs": [],
   "source": []
  },
  {
   "cell_type": "code",
   "execution_count": null,
   "metadata": {},
   "outputs": [],
   "source": []
  },
  {
   "cell_type": "code",
   "execution_count": null,
   "metadata": {},
   "outputs": [],
   "source": []
  },
  {
   "cell_type": "code",
   "execution_count": null,
   "metadata": {},
   "outputs": [],
   "source": []
  },
  {
   "cell_type": "code",
   "execution_count": null,
   "metadata": {},
   "outputs": [],
   "source": []
  },
  {
   "cell_type": "code",
   "execution_count": null,
   "metadata": {},
   "outputs": [],
   "source": []
  },
  {
   "cell_type": "code",
   "execution_count": null,
   "metadata": {},
   "outputs": [],
   "source": []
  },
  {
   "cell_type": "code",
   "execution_count": null,
   "metadata": {},
   "outputs": [],
   "source": []
  },
  {
   "cell_type": "code",
   "execution_count": null,
   "metadata": {},
   "outputs": [],
   "source": []
  },
  {
   "cell_type": "code",
   "execution_count": null,
   "metadata": {},
   "outputs": [],
   "source": []
  },
  {
   "cell_type": "code",
   "execution_count": null,
   "metadata": {},
   "outputs": [],
   "source": []
  },
  {
   "cell_type": "code",
   "execution_count": null,
   "metadata": {},
   "outputs": [],
   "source": []
  },
  {
   "cell_type": "code",
   "execution_count": null,
   "metadata": {},
   "outputs": [],
   "source": []
  },
  {
   "cell_type": "code",
   "execution_count": null,
   "metadata": {},
   "outputs": [],
   "source": []
  },
  {
   "cell_type": "code",
   "execution_count": null,
   "metadata": {},
   "outputs": [],
   "source": []
  },
  {
   "cell_type": "code",
   "execution_count": null,
   "metadata": {},
   "outputs": [],
   "source": []
  },
  {
   "cell_type": "code",
   "execution_count": null,
   "metadata": {},
   "outputs": [],
   "source": []
  },
  {
   "cell_type": "code",
   "execution_count": null,
   "metadata": {},
   "outputs": [],
   "source": []
  },
  {
   "cell_type": "code",
   "execution_count": null,
   "metadata": {},
   "outputs": [],
   "source": []
  },
  {
   "cell_type": "code",
   "execution_count": null,
   "metadata": {},
   "outputs": [],
   "source": []
  },
  {
   "cell_type": "code",
   "execution_count": null,
   "metadata": {},
   "outputs": [],
   "source": []
  },
  {
   "cell_type": "code",
   "execution_count": null,
   "metadata": {},
   "outputs": [],
   "source": []
  },
  {
   "cell_type": "code",
   "execution_count": null,
   "metadata": {},
   "outputs": [],
   "source": []
  },
  {
   "cell_type": "code",
   "execution_count": null,
   "metadata": {},
   "outputs": [],
   "source": []
  }
 ],
 "metadata": {
  "kernelspec": {
   "display_name": "Python 3",
   "language": "python",
   "name": "python3"
  },
  "language_info": {
   "codemirror_mode": {
    "name": "ipython",
    "version": 3
   },
   "file_extension": ".py",
   "mimetype": "text/x-python",
   "name": "python",
   "nbconvert_exporter": "python",
   "pygments_lexer": "ipython3",
   "version": "3.7.6"
  }
 },
 "nbformat": 4,
 "nbformat_minor": 4
}
